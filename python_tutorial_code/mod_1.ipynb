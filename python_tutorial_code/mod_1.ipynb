{
 "cells": [
  {
   "cell_type": "code",
   "execution_count": 2,
   "id": "f0c7d3f2",
   "metadata": {},
   "outputs": [
    {
     "name": "stdout",
     "output_type": "stream",
     "text": [
      "7\n"
     ]
    }
   ],
   "source": [
    "x = 4\n",
    "y = 3\n",
    "z = x + y\n",
    "print(z)"
   ]
  },
  {
   "cell_type": "code",
   "execution_count": 4,
   "id": "488939fe",
   "metadata": {},
   "outputs": [
    {
     "name": "stdout",
     "output_type": "stream",
     "text": [
      "15\n"
     ]
    },
    {
     "data": {
      "text/plain": [
       "int"
      ]
     },
     "execution_count": 4,
     "metadata": {},
     "output_type": "execute_result"
    }
   ],
   "source": [
    "x = 5 \n",
    "y = 10\n",
    "z = x + y\n",
    "\n",
    "print(z)\n",
    "type (z)"
   ]
  },
  {
   "cell_type": "code",
   "execution_count": null,
   "id": "55897a20",
   "metadata": {},
   "outputs": [
    {
     "name": "stdout",
     "output_type": "stream",
     "text": [
      "50\n",
      "12.56\n"
     ]
    }
   ],
   "source": [
    "# Task 1\n",
    "# In this cell, initialise two numeric variables and find their product \n",
    "# # using the * operator for multiplication and assign this to a new variable.\n",
    "# Print the new variable\n",
    "\n",
    "# The radius of a circle is 2, assume that Pi is 3.14. Assign both of these \n",
    "# to suitably named variables and find the area of the circle.\n",
    "# We can find the area of a circle by finding the product of Pi with the radius squared.\n",
    "# You probably don't know how to square a number in Python yet, so use Google to work it out!\n",
    "# area of a circle = 3.14 * radius squared \n",
    "\n",
    "# Task 1a\n",
    "x = 10\n",
    "y = 5\n",
    "z = x * y \n",
    "print(z)\n",
    "\n",
    "# Task 1b\n",
    "radius = 2\n",
    "pi = 3.14\n",
    "area_of_a_circle = pi * (radius **2)\n",
    "print(area_of_a_circle)\n"
   ]
  },
  {
   "cell_type": "code",
   "execution_count": null,
   "id": "b1716d0a",
   "metadata": {},
   "outputs": [
    {
     "name": "stdout",
     "output_type": "stream",
     "text": [
      "dog\n",
      "cat\n",
      "racoon\n"
     ]
    }
   ],
   "source": [
    "# Task 2\n",
    "# In this cell I've initialised a variable 'slice_this_phrase'.\n",
    "# On the next three lines, print the words dog, cat, and racoon seprately\n",
    "# using a slice from the beginning, a slice giving a range in the middle, and a slice from the end.\n",
    "# This means one slice will involve [:n], one will involve [n1:n2], and one will involve [-n:].\n",
    " \n",
    "slice_this_phrase = 'dog cat racoon'\n",
    "\n",
    "d = slice_this_phrase [:3] # = dog\n",
    "c = slice_this_phrase [4:7] # = cat\n",
    "r = slice_this_phrase [-6:] # = racoon\n",
    "\n",
    "print (d) \n",
    "print (c)\n",
    "print (r)\n"
   ]
  }
 ],
 "metadata": {
  "kernelspec": {
   "display_name": "Python 3",
   "language": "python",
   "name": "python3"
  },
  "language_info": {
   "codemirror_mode": {
    "name": "ipython",
    "version": 3
   },
   "file_extension": ".py",
   "mimetype": "text/x-python",
   "name": "python",
   "nbconvert_exporter": "python",
   "pygments_lexer": "ipython3",
   "version": "3.12.1"
  }
 },
 "nbformat": 4,
 "nbformat_minor": 5
}
